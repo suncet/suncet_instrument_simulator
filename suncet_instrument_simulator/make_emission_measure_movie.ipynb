{
 "cells": [
  {
   "cell_type": "code",
   "execution_count": 9,
   "metadata": {},
   "outputs": [],
   "source": [
    "from scipy.io import readsav\n",
    "import matplotlib.pyplot as plt\n",
    "from matplotlib.backends.backend_agg import FigureCanvasAgg as FigureCanvas\n",
    "import numpy as np\n",
    "from astropy.io import fits\n",
    "import os\n",
    "from glob import glob\n",
    "import imageio"
   ]
  },
  {
   "cell_type": "code",
   "execution_count": 57,
   "metadata": {},
   "outputs": [],
   "source": [
    "def plot_difference_image(data, data_prior, output_filename):\n",
    "    height, width = data.shape[:2]\n",
    "    \n",
    "    # Matplotlib for some reason makes saving an image to disk with the exact right dimensions and no white space non-trivial, hence all this elaborate setup\n",
    "    fig = plt.figure(frameon=False)\n",
    "    fig.set_size_inches(width / fig.dpi, height / fig.dpi)\n",
    "    ax = plt.Axes(fig, [0., 0., 1., 1.])\n",
    "    ax.set_axis_off()\n",
    "    fig.add_axes(ax)\n",
    "\n",
    "    diff = data - data_prior\n",
    "    ax.imshow(diff, vmin=-0.01, vmax=0.01, cmap='gray', aspect='auto')\n",
    "    plt.savefig(output_filename, dpi=fig.dpi, transparent=True)\n",
    "    plt.close()"
   ]
  },
  {
   "cell_type": "code",
   "execution_count": 58,
   "metadata": {},
   "outputs": [],
   "source": [
    "path_data = '/Users/masonjp2/Dropbox/suncet_dropbox/9000 Processing/data/mhd/dimmest/em_maps/'\n",
    "path_save = '/Users/masonjp2/Downloads/bla/'\n",
    "movie_filename = path_save + 'model_em_diff_one_temperature.mp4'\n",
    "\n",
    "filenames = 'em_map_*.sav'\n",
    "sav_files = sorted(glob(path_data + filenames))\n",
    "\n",
    "image_files = []\n",
    "for i, file in enumerate(sav_files):\n",
    "    if i == 0: \n",
    "        continue\n",
    "    bla = readsav(file)\n",
    "    #current = bla['em_maps_plus'][3, :, :]\n",
    "    current = np.sum(bla['em_maps_plus'], axis=0)\n",
    "    bla = readsav(sav_files[i-1])\n",
    "    #prior = bla['em_maps_plus'][3, :, :]\n",
    "    prior = np.sum(bla['em_maps_plus'], axis=0)\n",
    "\n",
    "    output_filename = path_save + str(i) + '.png'\n",
    "    plot_difference_image(current, prior, output_filename)\n",
    "\n",
    "\n",
    "    image_files.append(output_filename)\n",
    "\n",
    "    \n",
    "\n"
   ]
  },
  {
   "cell_type": "code",
   "execution_count": 59,
   "metadata": {},
   "outputs": [
    {
     "name": "stderr",
     "output_type": "stream",
     "text": [
      "/var/folders/vm/nfh3cfj106121z2ph22yffx40000gq/T/ipykernel_68431/1421354344.py:3: DeprecationWarning: Starting with ImageIO v3 the behavior of this function will switch to that of iio.v3.imread. To keep the current behavior (and make this warning dissapear) use `import imageio.v2 as imageio` or call `imageio.v2.imread` directly.\n",
      "  image = imageio.imread(filename)\n"
     ]
    }
   ],
   "source": [
    "with imageio.get_writer(movie_filename, fps=20) as writer:\n",
    "    for filename in image_files:\n",
    "        image = imageio.imread(filename)\n",
    "        writer.append_data(image)"
   ]
  },
  {
   "cell_type": "code",
   "execution_count": 42,
   "metadata": {},
   "outputs": [
    {
     "ename": "AttributeError",
     "evalue": "'tuple' object has no attribute 'lower'",
     "output_type": "error",
     "traceback": [
      "\u001b[0;31m---------------------------------------------------------------------------\u001b[0m",
      "\u001b[0;31mAttributeError\u001b[0m                            Traceback (most recent call last)",
      "Input \u001b[0;32mIn [42]\u001b[0m, in \u001b[0;36m<cell line: 1>\u001b[0;34m()\u001b[0m\n\u001b[0;32m----> 1\u001b[0m \u001b[43mbla\u001b[49m\u001b[43m[\u001b[49m\u001b[38;5;241;43m0\u001b[39;49m\u001b[43m,\u001b[49m\u001b[43m \u001b[49m\u001b[43m:\u001b[49m\u001b[43m,\u001b[49m\u001b[43m \u001b[49m\u001b[43m:\u001b[49m\u001b[43m]\u001b[49m\n",
      "File \u001b[0;32m~/opt/anaconda3/envs/suncet_simulator/lib/python3.10/site-packages/scipy/io/_idl.py:651\u001b[0m, in \u001b[0;36mAttrDict.__getitem__\u001b[0;34m(self, name)\u001b[0m\n\u001b[1;32m    650\u001b[0m \u001b[38;5;28;01mdef\u001b[39;00m \u001b[38;5;21m__getitem__\u001b[39m(\u001b[38;5;28mself\u001b[39m, name):\n\u001b[0;32m--> 651\u001b[0m     \u001b[38;5;28;01mreturn\u001b[39;00m \u001b[38;5;28msuper\u001b[39m()\u001b[38;5;241m.\u001b[39m\u001b[38;5;21m__getitem__\u001b[39m(\u001b[43mname\u001b[49m\u001b[38;5;241;43m.\u001b[39;49m\u001b[43mlower\u001b[49m())\n",
      "\u001b[0;31mAttributeError\u001b[0m: 'tuple' object has no attribute 'lower'"
     ]
    }
   ],
   "source": []
  },
  {
   "cell_type": "code",
   "execution_count": null,
   "metadata": {},
   "outputs": [],
   "source": []
  }
 ],
 "metadata": {
  "kernelspec": {
   "display_name": "suncet_simulator",
   "language": "python",
   "name": "python3"
  },
  "language_info": {
   "codemirror_mode": {
    "name": "ipython",
    "version": 3
   },
   "file_extension": ".py",
   "mimetype": "text/x-python",
   "name": "python",
   "nbconvert_exporter": "python",
   "pygments_lexer": "ipython3",
   "version": "3.10.5"
  }
 },
 "nbformat": 4,
 "nbformat_minor": 2
}
