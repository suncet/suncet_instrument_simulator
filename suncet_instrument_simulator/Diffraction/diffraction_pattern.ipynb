{
 "cells": [
  {
   "cell_type": "code",
   "execution_count": 1,
   "id": "initial_id",
   "metadata": {
    "collapsed": true,
    "ExecuteTime": {
     "end_time": "2025-04-15T20:03:26.621597Z",
     "start_time": "2025-04-15T20:03:26.091697Z"
    }
   },
   "outputs": [],
   "source": [
    "import suncet_psf\n",
    "import astropy.units as u\n",
    "import matplotlib.pyplot as plt\n",
    "import numpy as np\n",
    "from astropy.io import fits"
   ]
  },
  {
   "cell_type": "markdown",
   "source": [
    "Experiments below here"
   ],
   "metadata": {
    "collapsed": false
   },
   "id": "c0f1e42de2e962b0"
  },
  {
   "cell_type": "raw",
   "source": [
    "mesh = suncet_psf.filter_mesh_parameters(171, angle_arm = [0, 90] * u.deg, angles_focal_plane=[90, 0] * u.deg, lpi = 20)"
   ],
   "metadata": {
    "collapsed": false
   },
   "id": "157707a5eebfcc62"
  },
  {
   "cell_type": "raw",
   "source": [
    "mesh"
   ],
   "metadata": {
    "collapsed": false
   },
   "id": "b59bfbf4299a714f"
  },
  {
   "cell_type": "raw",
   "source": [
    "20 vs 65 LPI comparison to demonstrate improvement resulting from this optimization"
   ],
   "metadata": {
    "collapsed": false
   },
   "id": "8d4bd5cb916911d5"
  },
  {
   "cell_type": "raw",
   "source": [
    "psf_185_65_lpi = suncet_psf.psf(185, diffraction_orders=np.arange(-100, 100, 1), angle_arm = [90, 0] * u.deg, angles_focal_plane=[0, 90] * u.deg, lpi = 65, output_size = [100, 100])\n",
    "psf_185_20_lpi = suncet_psf.psf(185, diffraction_orders=np.arange(-100, 100, 1), angle_arm = [90, 0] * u.deg, angles_focal_plane=[0, 90] * u.deg, lpi = 20, output_size = [100, 100])"
   ],
   "metadata": {
    "collapsed": false
   },
   "id": "8658d90d5cc1eb2c"
  },
  {
   "cell_type": "raw",
   "source": [
    "plt.imshow(np.log10(psf_185_65_lpi), cmap='Greys', vmin=-12, vmax=0)"
   ],
   "metadata": {
    "collapsed": false
   },
   "id": "2775557095704341"
  },
  {
   "cell_type": "raw",
   "source": [
    "plt.imshow(np.log10(psf_185_20_lpi), cmap='Greys', vmin=-12, vmax=0)"
   ],
   "metadata": {
    "collapsed": false
   },
   "id": "d9e67f81977596c6"
  },
  {
   "cell_type": "raw",
   "source": [
    "plt.plot(psf_170_65_lpi[750, 750:1050])\n",
    "plt.plot(psf_170_20_lpi[750, 750:1050])\n",
    "plt.yscale('log')\n",
    "# plt.xscale('log')\n",
    "plt.ylim([1e-7, 1])\n",
    "plt.title('SunCET Diffraction Pattern for 65 vs 20 LPI mesh')\n",
    "plt.xlabel('Pixels from Center')\n",
    "plt.ylabel('Intensity') "
   ],
   "metadata": {
    "collapsed": false
   },
   "id": "2f89e621447b0da7"
  },
  {
   "cell_type": "raw",
   "source": [
    "mask = np.zeros([1500, 1500]) + 1.\n",
    "mask[747:754, 747:754] = 0\n",
    "print(np.sum(psf_185_65_lpi * mask))\n",
    "print(np.sum(psf_185_20_lpi * mask))"
   ],
   "metadata": {
    "collapsed": false
   },
   "id": "a7844a6c7312f7f8"
  },
  {
   "cell_type": "raw",
   "source": [
    "psf170 = suncet_psf.psf(170, diffraction_orders=np.arange(-200, 200, 1), angle_arm = [0, 90] * u.deg)\n",
    "psf175 = suncet_psf.psf(175, diffraction_orders=np.arange(-200, 200, 1), angle_arm = [0, 90] * u.deg)\n",
    "psf180 = suncet_psf.psf(180, diffraction_orders=np.arange(-200, 200, 1), angle_arm = [0, 90] * u.deg)\n",
    "psf185 = suncet_psf.psf(185, diffraction_orders=np.arange(-200, 200, 1), angle_arm = [0, 90] * u.deg)\n",
    "psf190 = suncet_psf.psf(190, diffraction_orders=np.arange(-200, 200, 1), angle_arm = [0, 90] * u.deg)"
   ],
   "metadata": {
    "collapsed": false
   },
   "id": "a1f3a8be0955159c"
  },
  {
   "cell_type": "raw",
   "source": [
    "plt.imshow(np.log10(psf170[650:850, 650:850]), cmap='Greys', vmin=-8, vmax=0, extent =[650, 850, 650, 850])\n",
    "print(np.sum(psf170))"
   ],
   "metadata": {
    "collapsed": false
   },
   "id": "4bf2dadc75884cfe"
  },
  {
   "cell_type": "raw",
   "source": [
    "plt.plot(psf170[750, 750:950])\n",
    "plt.plot(psf175[750, 750:950])\n",
    "plt.plot(psf180[750, 750:950])\n",
    "plt.plot(psf185[750, 750:950])\n",
    "plt.plot(psf190[750, 750:950])\n",
    "plt.yscale('log')"
   ],
   "metadata": {
    "collapsed": false
   },
   "id": "669fcdd659288870"
  },
  {
   "cell_type": "raw",
   "source": [
    "psf = suncet_psf.psf(170)"
   ],
   "metadata": {
    "collapsed": false
   },
   "id": "c65163cedb8ee34"
  },
  {
   "cell_type": "raw",
   "source": [
    "plt.imshow(np.log10(psf), cmap='Greys', vmin=-10, vmax=0-1)\n",
    "print(np.sum(psf))"
   ],
   "metadata": {
    "collapsed": false
   },
   "id": "96081bd474d798fa"
  },
  {
   "cell_type": "markdown",
   "source": [
    "This function and bit of code below makes the FITS file with the various diffraction patterns"
   ],
   "metadata": {
    "collapsed": false
   },
   "id": "f2ea27e92d77d6a0"
  },
  {
   "cell_type": "code",
   "execution_count": 31,
   "outputs": [],
   "source": [
    "def make_header_template():\n",
    "    from astropy.io import fits\n",
    "    hdr = fits.Header( {\n",
    "        \"SIMPLE\": \"T\",                   \n",
    "        \"BITPIX\": -32,\n",
    "        \"NAXIS\": 2,\n",
    "        \"NAXIS1\": 2000,\n",
    "        \"NAXIS2\": 2000,\n",
    "        'WAVELNTH': 170.0, # NOTE: FITS doesn't have a keyword to store the units for wavelength, it's usually listed in the header comment instead\n",
    "        'WAVEUNIT': 'Angstrom',\n",
    "        'TELESCOP': 'SunCET',\n",
    "        'INSTRUME': 'SunCET',\n",
    "    } )\n",
    "    return hdr"
   ],
   "metadata": {
    "collapsed": false,
    "ExecuteTime": {
     "end_time": "2025-02-25T16:00:51.128506Z",
     "start_time": "2025-02-25T16:00:51.126398Z"
    }
   },
   "id": "13dc4015a0616765"
  },
  {
   "cell_type": "code",
   "execution_count": 32,
   "outputs": [
    {
     "name": "stdout",
     "output_type": "stream",
     "text": [
      "170\n",
      "171\n",
      "172\n",
      "173\n",
      "174\n",
      "175\n",
      "176\n",
      "177\n",
      "178\n",
      "179\n",
      "180\n",
      "181\n",
      "182\n",
      "183\n",
      "184\n",
      "185\n",
      "186\n",
      "187\n",
      "188\n",
      "189\n",
      "190\n",
      "191\n",
      "192\n",
      "193\n",
      "194\n",
      "195\n",
      "196\n"
     ]
    },
    {
     "ename": "KeyboardInterrupt",
     "evalue": "",
     "output_type": "error",
     "traceback": [
      "\u001B[0;31m---------------------------------------------------------------------------\u001B[0m",
      "\u001B[0;31mKeyboardInterrupt\u001B[0m                         Traceback (most recent call last)",
      "Cell \u001B[0;32mIn[32], line 3\u001B[0m\n\u001B[1;32m      1\u001B[0m \u001B[38;5;28;01mfor\u001B[39;00m wavelength \u001B[38;5;129;01min\u001B[39;00m \u001B[38;5;28mrange\u001B[39m(\u001B[38;5;241m170\u001B[39m, \u001B[38;5;241m211\u001B[39m, \u001B[38;5;241m1\u001B[39m):\n\u001B[1;32m      2\u001B[0m     \u001B[38;5;28mprint\u001B[39m(wavelength)\n\u001B[0;32m----> 3\u001B[0m     psf \u001B[38;5;241m=\u001B[39m \u001B[43msuncet_psf\u001B[49m\u001B[38;5;241;43m.\u001B[39;49m\u001B[43mpsf\u001B[49m\u001B[43m(\u001B[49m\u001B[43mwavelength\u001B[49m\u001B[43m,\u001B[49m\u001B[43m \u001B[49m\u001B[43mdiffraction_orders\u001B[49m\u001B[38;5;241;43m=\u001B[39;49m\u001B[43mnp\u001B[49m\u001B[38;5;241;43m.\u001B[39;49m\u001B[43marange\u001B[49m\u001B[43m(\u001B[49m\u001B[38;5;241;43m-\u001B[39;49m\u001B[38;5;241;43m4000\u001B[39;49m\u001B[43m,\u001B[49m\u001B[43m \u001B[49m\u001B[38;5;241;43m4000\u001B[39;49m\u001B[43m,\u001B[49m\u001B[43m \u001B[49m\u001B[38;5;241;43m1\u001B[39;49m\u001B[43m)\u001B[49m\u001B[43m,\u001B[49m\u001B[43m \u001B[49m\u001B[43mangle_arm\u001B[49m\u001B[43m \u001B[49m\u001B[38;5;241;43m=\u001B[39;49m\u001B[43m \u001B[49m\u001B[43m[\u001B[49m\u001B[38;5;241;43m90\u001B[39;49m\u001B[43m,\u001B[49m\u001B[43m \u001B[49m\u001B[38;5;241;43m0\u001B[39;49m\u001B[43m]\u001B[49m\u001B[43m \u001B[49m\u001B[38;5;241;43m*\u001B[39;49m\u001B[43m \u001B[49m\u001B[43mu\u001B[49m\u001B[38;5;241;43m.\u001B[39;49m\u001B[43mdeg\u001B[49m\u001B[43m,\u001B[49m\u001B[43m \u001B[49m\u001B[43mangles_focal_plane\u001B[49m\u001B[38;5;241;43m=\u001B[39;49m\u001B[43m[\u001B[49m\u001B[38;5;241;43m90\u001B[39;49m\u001B[43m,\u001B[49m\u001B[43m \u001B[49m\u001B[38;5;241;43m0\u001B[39;49m\u001B[43m]\u001B[49m\u001B[43m \u001B[49m\u001B[38;5;241;43m*\u001B[39;49m\u001B[43m \u001B[49m\u001B[43mu\u001B[49m\u001B[38;5;241;43m.\u001B[39;49m\u001B[43mdeg\u001B[49m\u001B[43m,\u001B[49m\u001B[43m \u001B[49m\u001B[43moutput_size\u001B[49m\u001B[38;5;241;43m=\u001B[39;49m\u001B[43m[\u001B[49m\u001B[38;5;241;43m2000\u001B[39;49m\u001B[43m,\u001B[49m\u001B[43m \u001B[49m\u001B[38;5;241;43m2000\u001B[39;49m\u001B[43m]\u001B[49m\u001B[43m,\u001B[49m\u001B[43m \u001B[49m\u001B[43mlpi\u001B[49m\u001B[38;5;241;43m=\u001B[39;49m\u001B[38;5;241;43m20\u001B[39;49m\u001B[43m)\u001B[49m\n\u001B[1;32m      4\u001B[0m     header \u001B[38;5;241m=\u001B[39m make_header_template()\n\u001B[1;32m      5\u001B[0m     header[\u001B[38;5;124m'\u001B[39m\u001B[38;5;124mWAVELNTH\u001B[39m\u001B[38;5;124m'\u001B[39m] \u001B[38;5;241m=\u001B[39m wavelength\n",
      "File \u001B[0;32m~/Documents/Ongoing_Research/SunCET/Software/suncet_instrument_simulator/suncet_instrument_simulator/Diffraction/suncet_psf.py:201\u001B[0m, in \u001B[0;36mpsf\u001B[0;34m(channel, use_preflightcore, diffraction_orders, angle_arm, angles_focal_plane, lpi, output_size, use_gpu)\u001B[0m\n\u001B[1;32m    199\u001B[0m \u001B[38;5;28;01mif\u001B[39;00m diffraction_orders \u001B[38;5;129;01mis\u001B[39;00m \u001B[38;5;28;01mNone\u001B[39;00m:\n\u001B[1;32m    200\u001B[0m     diffraction_orders \u001B[38;5;241m=\u001B[39m np\u001B[38;5;241m.\u001B[39marange(\u001B[38;5;241m-\u001B[39m\u001B[38;5;241m1500\u001B[39m, \u001B[38;5;241m1500\u001B[39m, \u001B[38;5;241m1\u001B[39m)\n\u001B[0;32m--> 201\u001B[0m psf_entrance \u001B[38;5;241m=\u001B[39m \u001B[43m_psf\u001B[49m\u001B[43m(\u001B[49m\u001B[43mmeshinfo\u001B[49m\u001B[43m,\u001B[49m\u001B[43m \u001B[49m\u001B[43mangles_entrance\u001B[49m\u001B[43m,\u001B[49m\u001B[43m \u001B[49m\u001B[43mdiffraction_orders\u001B[49m\u001B[43m,\u001B[49m\u001B[43m \u001B[49m\u001B[43moutput_size\u001B[49m\u001B[43m,\u001B[49m\u001B[43m \u001B[49m\u001B[43muse_gpu\u001B[49m\u001B[38;5;241;43m=\u001B[39;49m\u001B[43muse_gpu\u001B[49m\u001B[43m)\u001B[49m\n\u001B[1;32m    202\u001B[0m psf_focal_plane \u001B[38;5;241m=\u001B[39m _psf(\n\u001B[1;32m    203\u001B[0m     meshinfo,\n\u001B[1;32m    204\u001B[0m     angles_focal_plane,\n\u001B[0;32m   (...)\u001B[0m\n\u001B[1;32m    208\u001B[0m     use_gpu\u001B[38;5;241m=\u001B[39muse_gpu,\n\u001B[1;32m    209\u001B[0m )\n\u001B[1;32m    210\u001B[0m \u001B[38;5;66;03m# Composite PSF\u001B[39;00m\n",
      "File \u001B[0;32m~/Documents/Ongoing_Research/SunCET/Software/suncet_instrument_simulator/suncet_instrument_simulator/Diffraction/suncet_psf.py:249\u001B[0m, in \u001B[0;36m_psf\u001B[0;34m(meshinfo, angles, diffraction_orders, output_size, focal_plane, use_gpu)\u001B[0m\n\u001B[1;32m    247\u001B[0m         y_centered \u001B[38;5;241m=\u001B[39m y \u001B[38;5;241m-\u001B[39m (\u001B[38;5;241m0.5\u001B[39m \u001B[38;5;241m*\u001B[39m Ny \u001B[38;5;241m+\u001B[39m dy \u001B[38;5;241m*\u001B[39m order \u001B[38;5;241m+\u001B[39m \u001B[38;5;241m0.5\u001B[39m)\n\u001B[1;32m    248\u001B[0m         \u001B[38;5;66;03m# NOTE: this step is the bottleneck and is VERY slow on a CPU\u001B[39;00m\n\u001B[0;32m--> 249\u001B[0m         psf \u001B[38;5;241m+\u001B[39m\u001B[38;5;241m=\u001B[39m \u001B[43mnp\u001B[49m\u001B[38;5;241;43m.\u001B[39;49m\u001B[43mexp\u001B[49m\u001B[43m(\u001B[49m\u001B[38;5;241;43m-\u001B[39;49m\u001B[43mwidth_x\u001B[49m\u001B[43m \u001B[49m\u001B[38;5;241;43m*\u001B[39;49m\u001B[43m \u001B[49m\u001B[43mx_centered\u001B[49m\u001B[43m \u001B[49m\u001B[38;5;241;43m*\u001B[39;49m\u001B[43m \u001B[49m\u001B[43mx_centered\u001B[49m\u001B[43m \u001B[49m\u001B[38;5;241;43m-\u001B[39;49m\u001B[43m \u001B[49m\u001B[43mwidth_y\u001B[49m\u001B[43m \u001B[49m\u001B[38;5;241;43m*\u001B[39;49m\u001B[43m \u001B[49m\u001B[43my_centered\u001B[49m\u001B[43m \u001B[49m\u001B[38;5;241;43m*\u001B[39;49m\u001B[43m \u001B[49m\u001B[43my_centered\u001B[49m\u001B[43m)\u001B[49m \u001B[38;5;241m*\u001B[39m intensity\n\u001B[1;32m    250\u001B[0m \u001B[38;5;66;03m# Contribution from core\u001B[39;00m\n\u001B[1;32m    251\u001B[0m psf_core \u001B[38;5;241m=\u001B[39m np\u001B[38;5;241m.\u001B[39mexp(\u001B[38;5;241m-\u001B[39mwidth_x \u001B[38;5;241m*\u001B[39m (x \u001B[38;5;241m-\u001B[39m \u001B[38;5;241m0.5\u001B[39m \u001B[38;5;241m*\u001B[39m Nx \u001B[38;5;241m-\u001B[39m \u001B[38;5;241m0.5\u001B[39m) \u001B[38;5;241m*\u001B[39m\u001B[38;5;241m*\u001B[39m \u001B[38;5;241m2\u001B[39m \u001B[38;5;241m-\u001B[39m width_y \u001B[38;5;241m*\u001B[39m (y \u001B[38;5;241m-\u001B[39m \u001B[38;5;241m0.5\u001B[39m \u001B[38;5;241m*\u001B[39m Ny \u001B[38;5;241m-\u001B[39m \u001B[38;5;241m0.5\u001B[39m) \u001B[38;5;241m*\u001B[39m\u001B[38;5;241m*\u001B[39m \u001B[38;5;241m2\u001B[39m)\n",
      "\u001B[0;31mKeyboardInterrupt\u001B[0m: "
     ]
    }
   ],
   "source": [
    "for wavelength in range(170, 211, 1):\n",
    "    print(wavelength)\n",
    "    psf = suncet_psf.psf(wavelength, diffraction_orders=np.arange(-4000, 4000, 1), angle_arm = [90, 0] * u.deg, angles_focal_plane=[90, 0] * u.deg, output_size=[2000, 2000], lpi=20)\n",
    "    header = make_header_template()\n",
    "    header['WAVELNTH'] = wavelength\n",
    "    if wavelength == 170:\n",
    "        hdu = fits.PrimaryHDU(psf.value, header)\n",
    "        hdul = fits.HDUList(hdu)\n",
    "    else:\n",
    "        hdu = fits.ImageHDU(psf.value, header)\n",
    "        hdul.append(hdu)\n",
    "hdul.writeto('suncet_diffraction_patterns_2k_20250224.fits', overwrite=True) "
   ],
   "metadata": {
    "collapsed": false,
    "ExecuteTime": {
     "end_time": "2025-02-25T22:39:26.100918Z",
     "start_time": "2025-02-25T16:00:54.167665Z"
    }
   },
   "id": "d54228f49773edbc"
  },
  {
   "cell_type": "code",
   "execution_count": null,
   "outputs": [],
   "source": [],
   "metadata": {
    "collapsed": false
   },
   "id": "4df533342096748"
  }
 ],
 "metadata": {
  "kernelspec": {
   "display_name": "Python 3",
   "language": "python",
   "name": "python3"
  },
  "language_info": {
   "codemirror_mode": {
    "name": "ipython",
    "version": 2
   },
   "file_extension": ".py",
   "mimetype": "text/x-python",
   "name": "python",
   "nbconvert_exporter": "python",
   "pygments_lexer": "ipython2",
   "version": "2.7.6"
  }
 },
 "nbformat": 4,
 "nbformat_minor": 5
}
